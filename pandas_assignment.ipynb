{
 "cells": [
  {
   "cell_type": "code",
   "execution_count": 1,
   "id": "d9017f33-a16a-4fde-8408-95dbad9d26eb",
   "metadata": {},
   "outputs": [],
   "source": [
    "#Consider following code to answer further questions:\n",
    "import pandas as pd\n",
    "course_name = ['Data Science', 'Machine Learning', 'Big Data', 'Data Engineer']\n",
    "duration = [2,3,6,4]\n",
    "df = pd.DataFrame( course_name,duration)"
   ]
  },
  {
   "cell_type": "code",
   "execution_count": 2,
   "id": "3a053589-b7be-4fab-9ab3-810f474f1c00",
   "metadata": {},
   "outputs": [
    {
     "data": {
      "text/html": [
       "<div>\n",
       "<style scoped>\n",
       "    .dataframe tbody tr th:only-of-type {\n",
       "        vertical-align: middle;\n",
       "    }\n",
       "\n",
       "    .dataframe tbody tr th {\n",
       "        vertical-align: top;\n",
       "    }\n",
       "\n",
       "    .dataframe thead th {\n",
       "        text-align: right;\n",
       "    }\n",
       "</style>\n",
       "<table border=\"1\" class=\"dataframe\">\n",
       "  <thead>\n",
       "    <tr style=\"text-align: right;\">\n",
       "      <th></th>\n",
       "      <th>0</th>\n",
       "    </tr>\n",
       "  </thead>\n",
       "  <tbody>\n",
       "    <tr>\n",
       "      <th>2</th>\n",
       "      <td>Data Science</td>\n",
       "    </tr>\n",
       "    <tr>\n",
       "      <th>3</th>\n",
       "      <td>Machine Learning</td>\n",
       "    </tr>\n",
       "    <tr>\n",
       "      <th>6</th>\n",
       "      <td>Big Data</td>\n",
       "    </tr>\n",
       "    <tr>\n",
       "      <th>4</th>\n",
       "      <td>Data Engineer</td>\n",
       "    </tr>\n",
       "  </tbody>\n",
       "</table>\n",
       "</div>"
      ],
      "text/plain": [
       "                  0\n",
       "2      Data Science\n",
       "3  Machine Learning\n",
       "6          Big Data\n",
       "4     Data Engineer"
      ]
     },
     "execution_count": 2,
     "metadata": {},
     "output_type": "execute_result"
    }
   ],
   "source": [
    "df"
   ]
  },
  {
   "cell_type": "code",
   "execution_count": 3,
   "id": "666b0550-a91e-40dc-8dd6-4016f6b0a41b",
   "metadata": {},
   "outputs": [],
   "source": [
    "import pandas as pd\n",
    "course_name = [\"Data Science\", \"Machine Learning\", \"Big Data\", \"Data Engineer\"]\n",
    "duration = [2,3,6,4]\n",
    "df = pd.DataFrame(data = {\"course_name\" : course_name, \"duration\" : duration})"
   ]
  },
  {
   "cell_type": "code",
   "execution_count": 4,
   "id": "8cbb3e83-986b-4e4b-859f-2451a6d8b021",
   "metadata": {},
   "outputs": [
    {
     "data": {
      "text/html": [
       "<div>\n",
       "<style scoped>\n",
       "    .dataframe tbody tr th:only-of-type {\n",
       "        vertical-align: middle;\n",
       "    }\n",
       "\n",
       "    .dataframe tbody tr th {\n",
       "        vertical-align: top;\n",
       "    }\n",
       "\n",
       "    .dataframe thead th {\n",
       "        text-align: right;\n",
       "    }\n",
       "</style>\n",
       "<table border=\"1\" class=\"dataframe\">\n",
       "  <thead>\n",
       "    <tr style=\"text-align: right;\">\n",
       "      <th></th>\n",
       "      <th>course_name</th>\n",
       "      <th>duration</th>\n",
       "    </tr>\n",
       "  </thead>\n",
       "  <tbody>\n",
       "    <tr>\n",
       "      <th>0</th>\n",
       "      <td>Data Science</td>\n",
       "      <td>2</td>\n",
       "    </tr>\n",
       "    <tr>\n",
       "      <th>1</th>\n",
       "      <td>Machine Learning</td>\n",
       "      <td>3</td>\n",
       "    </tr>\n",
       "    <tr>\n",
       "      <th>2</th>\n",
       "      <td>Big Data</td>\n",
       "      <td>6</td>\n",
       "    </tr>\n",
       "    <tr>\n",
       "      <th>3</th>\n",
       "      <td>Data Engineer</td>\n",
       "      <td>4</td>\n",
       "    </tr>\n",
       "  </tbody>\n",
       "</table>\n",
       "</div>"
      ],
      "text/plain": [
       "        course_name  duration\n",
       "0      Data Science         2\n",
       "1  Machine Learning         3\n",
       "2          Big Data         6\n",
       "3     Data Engineer         4"
      ]
     },
     "execution_count": 4,
     "metadata": {},
     "output_type": "execute_result"
    }
   ],
   "source": [
    "df"
   ]
  },
  {
   "cell_type": "markdown",
   "id": "91116685-c0ce-43ff-bbc9-524c4b832395",
   "metadata": {},
   "source": [
    "Q1. Write a code to print the data present in the second row of the dataframe, df."
   ]
  },
  {
   "cell_type": "code",
   "execution_count": 5,
   "id": "66699ff6-4590-4d31-a7c7-1ffe836b5712",
   "metadata": {},
   "outputs": [
    {
     "data": {
      "text/plain": [
       "['Machine Learning', 3]"
      ]
     },
     "execution_count": 5,
     "metadata": {},
     "output_type": "execute_result"
    }
   ],
   "source": [
    "list(df.iloc[1])"
   ]
  },
  {
   "cell_type": "raw",
   "id": "c2f19c8f-1172-4cb5-bea8-069331acc0c1",
   "metadata": {},
   "source": [
    "Q2. What is the difference between the functions loc and iloc in pandas.DataFrame?"
   ]
  },
  {
   "cell_type": "markdown",
   "id": "898d09e4-9ba3-425c-9d3e-c0f51b9a68f6",
   "metadata": {},
   "source": [
    "Ans- loc is typically used for label indexing and can access multiple columns, while . iloc is used for integer indexing."
   ]
  },
  {
   "cell_type": "raw",
   "id": "ca84fba5-1bb5-4bcb-a635-b4fecaedfd8d",
   "metadata": {},
   "source": [
    "Q3. Reindex the given dataframe using a variable, reindex = [3,0,1,2] and store it in the variable, new_df\n",
    "then find the output for both new_df.loc[2] and new_df.iloc[2].\n",
    "Did you observe any difference in both the outputs? If so then explain it.\n",
    "Consider the below code to answer further questions:\n",
    "import pandas as pd\n",
    "import numpy as np\n",
    "columns = ['column_1', 'column_2', 'column_3', 'column_4', 'column_5', 'column_6']\n",
    "indices = [1,2,3,4,5,6]\n",
    "#Creating a dataframe:\n",
    "df1 = pd.DataFrame(np.random.rand(6,6), columns = columns, index = indices)"
   ]
  },
  {
   "cell_type": "code",
   "execution_count": 6,
   "id": "1bff1cb4-b12c-4747-bcc4-e9c130b47518",
   "metadata": {},
   "outputs": [],
   "source": [
    "import pandas as pd\n",
    "import numpy as np\n",
    "columns = ['column_1', 'column_2', 'column_3', 'column_4', 'column_5', 'column_6']\n",
    "indices = [1,2,3,4,5,6]\n",
    "#Creating a dataframe:\n",
    "df1 = pd.DataFrame(np.random.rand(6,6), columns = columns, index = indices)"
   ]
  },
  {
   "cell_type": "code",
   "execution_count": 7,
   "id": "08225ec5-8ee2-422e-8c2a-819697eafc2d",
   "metadata": {},
   "outputs": [
    {
     "data": {
      "text/html": [
       "<div>\n",
       "<style scoped>\n",
       "    .dataframe tbody tr th:only-of-type {\n",
       "        vertical-align: middle;\n",
       "    }\n",
       "\n",
       "    .dataframe tbody tr th {\n",
       "        vertical-align: top;\n",
       "    }\n",
       "\n",
       "    .dataframe thead th {\n",
       "        text-align: right;\n",
       "    }\n",
       "</style>\n",
       "<table border=\"1\" class=\"dataframe\">\n",
       "  <thead>\n",
       "    <tr style=\"text-align: right;\">\n",
       "      <th></th>\n",
       "      <th>column_1</th>\n",
       "      <th>column_2</th>\n",
       "      <th>column_3</th>\n",
       "      <th>column_4</th>\n",
       "      <th>column_5</th>\n",
       "      <th>column_6</th>\n",
       "    </tr>\n",
       "  </thead>\n",
       "  <tbody>\n",
       "    <tr>\n",
       "      <th>1</th>\n",
       "      <td>0.717739</td>\n",
       "      <td>0.751215</td>\n",
       "      <td>0.903345</td>\n",
       "      <td>0.047159</td>\n",
       "      <td>0.467182</td>\n",
       "      <td>0.627089</td>\n",
       "    </tr>\n",
       "    <tr>\n",
       "      <th>2</th>\n",
       "      <td>0.972625</td>\n",
       "      <td>0.830281</td>\n",
       "      <td>0.819108</td>\n",
       "      <td>0.953604</td>\n",
       "      <td>0.526631</td>\n",
       "      <td>0.758565</td>\n",
       "    </tr>\n",
       "    <tr>\n",
       "      <th>3</th>\n",
       "      <td>0.194149</td>\n",
       "      <td>0.157778</td>\n",
       "      <td>0.536439</td>\n",
       "      <td>0.125943</td>\n",
       "      <td>0.752992</td>\n",
       "      <td>0.446931</td>\n",
       "    </tr>\n",
       "    <tr>\n",
       "      <th>4</th>\n",
       "      <td>0.635967</td>\n",
       "      <td>0.906455</td>\n",
       "      <td>0.884622</td>\n",
       "      <td>0.326759</td>\n",
       "      <td>0.236805</td>\n",
       "      <td>0.017435</td>\n",
       "    </tr>\n",
       "    <tr>\n",
       "      <th>5</th>\n",
       "      <td>0.168094</td>\n",
       "      <td>0.404338</td>\n",
       "      <td>0.307588</td>\n",
       "      <td>0.346486</td>\n",
       "      <td>0.427758</td>\n",
       "      <td>0.588246</td>\n",
       "    </tr>\n",
       "    <tr>\n",
       "      <th>6</th>\n",
       "      <td>0.497239</td>\n",
       "      <td>0.562037</td>\n",
       "      <td>0.257011</td>\n",
       "      <td>0.445708</td>\n",
       "      <td>0.521991</td>\n",
       "      <td>0.354763</td>\n",
       "    </tr>\n",
       "  </tbody>\n",
       "</table>\n",
       "</div>"
      ],
      "text/plain": [
       "   column_1  column_2  column_3  column_4  column_5  column_6\n",
       "1  0.717739  0.751215  0.903345  0.047159  0.467182  0.627089\n",
       "2  0.972625  0.830281  0.819108  0.953604  0.526631  0.758565\n",
       "3  0.194149  0.157778  0.536439  0.125943  0.752992  0.446931\n",
       "4  0.635967  0.906455  0.884622  0.326759  0.236805  0.017435\n",
       "5  0.168094  0.404338  0.307588  0.346486  0.427758  0.588246\n",
       "6  0.497239  0.562037  0.257011  0.445708  0.521991  0.354763"
      ]
     },
     "execution_count": 7,
     "metadata": {},
     "output_type": "execute_result"
    }
   ],
   "source": [
    "df1"
   ]
  },
  {
   "cell_type": "code",
   "execution_count": 8,
   "id": "3c768097-f827-4836-913b-17ea6b08d24c",
   "metadata": {},
   "outputs": [],
   "source": [
    "new_df=df1[0:4]"
   ]
  },
  {
   "cell_type": "code",
   "execution_count": 9,
   "id": "e0d1e34a-6973-4045-be4a-e1f47dd9e91f",
   "metadata": {},
   "outputs": [
    {
     "data": {
      "text/html": [
       "<div>\n",
       "<style scoped>\n",
       "    .dataframe tbody tr th:only-of-type {\n",
       "        vertical-align: middle;\n",
       "    }\n",
       "\n",
       "    .dataframe tbody tr th {\n",
       "        vertical-align: top;\n",
       "    }\n",
       "\n",
       "    .dataframe thead th {\n",
       "        text-align: right;\n",
       "    }\n",
       "</style>\n",
       "<table border=\"1\" class=\"dataframe\">\n",
       "  <thead>\n",
       "    <tr style=\"text-align: right;\">\n",
       "      <th></th>\n",
       "      <th>column_1</th>\n",
       "      <th>column_2</th>\n",
       "      <th>column_3</th>\n",
       "      <th>column_4</th>\n",
       "      <th>column_5</th>\n",
       "      <th>column_6</th>\n",
       "    </tr>\n",
       "  </thead>\n",
       "  <tbody>\n",
       "    <tr>\n",
       "      <th>1</th>\n",
       "      <td>0.717739</td>\n",
       "      <td>0.751215</td>\n",
       "      <td>0.903345</td>\n",
       "      <td>0.047159</td>\n",
       "      <td>0.467182</td>\n",
       "      <td>0.627089</td>\n",
       "    </tr>\n",
       "    <tr>\n",
       "      <th>2</th>\n",
       "      <td>0.972625</td>\n",
       "      <td>0.830281</td>\n",
       "      <td>0.819108</td>\n",
       "      <td>0.953604</td>\n",
       "      <td>0.526631</td>\n",
       "      <td>0.758565</td>\n",
       "    </tr>\n",
       "    <tr>\n",
       "      <th>3</th>\n",
       "      <td>0.194149</td>\n",
       "      <td>0.157778</td>\n",
       "      <td>0.536439</td>\n",
       "      <td>0.125943</td>\n",
       "      <td>0.752992</td>\n",
       "      <td>0.446931</td>\n",
       "    </tr>\n",
       "    <tr>\n",
       "      <th>4</th>\n",
       "      <td>0.635967</td>\n",
       "      <td>0.906455</td>\n",
       "      <td>0.884622</td>\n",
       "      <td>0.326759</td>\n",
       "      <td>0.236805</td>\n",
       "      <td>0.017435</td>\n",
       "    </tr>\n",
       "  </tbody>\n",
       "</table>\n",
       "</div>"
      ],
      "text/plain": [
       "   column_1  column_2  column_3  column_4  column_5  column_6\n",
       "1  0.717739  0.751215  0.903345  0.047159  0.467182  0.627089\n",
       "2  0.972625  0.830281  0.819108  0.953604  0.526631  0.758565\n",
       "3  0.194149  0.157778  0.536439  0.125943  0.752992  0.446931\n",
       "4  0.635967  0.906455  0.884622  0.326759  0.236805  0.017435"
      ]
     },
     "execution_count": 9,
     "metadata": {},
     "output_type": "execute_result"
    }
   ],
   "source": [
    "new_df"
   ]
  },
  {
   "cell_type": "code",
   "execution_count": 10,
   "id": "b338c08e-6a64-4a60-b2f7-40679d90645f",
   "metadata": {},
   "outputs": [
    {
     "data": {
      "text/html": [
       "<div>\n",
       "<style scoped>\n",
       "    .dataframe tbody tr th:only-of-type {\n",
       "        vertical-align: middle;\n",
       "    }\n",
       "\n",
       "    .dataframe tbody tr th {\n",
       "        vertical-align: top;\n",
       "    }\n",
       "\n",
       "    .dataframe thead th {\n",
       "        text-align: right;\n",
       "    }\n",
       "</style>\n",
       "<table border=\"1\" class=\"dataframe\">\n",
       "  <thead>\n",
       "    <tr style=\"text-align: right;\">\n",
       "      <th></th>\n",
       "      <th>column_1</th>\n",
       "      <th>column_2</th>\n",
       "      <th>column_3</th>\n",
       "      <th>column_4</th>\n",
       "      <th>column_5</th>\n",
       "      <th>column_6</th>\n",
       "    </tr>\n",
       "  </thead>\n",
       "  <tbody>\n",
       "    <tr>\n",
       "      <th>3</th>\n",
       "      <td>0.194149</td>\n",
       "      <td>0.157778</td>\n",
       "      <td>0.536439</td>\n",
       "      <td>0.125943</td>\n",
       "      <td>0.752992</td>\n",
       "      <td>0.446931</td>\n",
       "    </tr>\n",
       "    <tr>\n",
       "      <th>0</th>\n",
       "      <td>NaN</td>\n",
       "      <td>NaN</td>\n",
       "      <td>NaN</td>\n",
       "      <td>NaN</td>\n",
       "      <td>NaN</td>\n",
       "      <td>NaN</td>\n",
       "    </tr>\n",
       "    <tr>\n",
       "      <th>1</th>\n",
       "      <td>0.717739</td>\n",
       "      <td>0.751215</td>\n",
       "      <td>0.903345</td>\n",
       "      <td>0.047159</td>\n",
       "      <td>0.467182</td>\n",
       "      <td>0.627089</td>\n",
       "    </tr>\n",
       "    <tr>\n",
       "      <th>2</th>\n",
       "      <td>0.972625</td>\n",
       "      <td>0.830281</td>\n",
       "      <td>0.819108</td>\n",
       "      <td>0.953604</td>\n",
       "      <td>0.526631</td>\n",
       "      <td>0.758565</td>\n",
       "    </tr>\n",
       "  </tbody>\n",
       "</table>\n",
       "</div>"
      ],
      "text/plain": [
       "   column_1  column_2  column_3  column_4  column_5  column_6\n",
       "3  0.194149  0.157778  0.536439  0.125943  0.752992  0.446931\n",
       "0       NaN       NaN       NaN       NaN       NaN       NaN\n",
       "1  0.717739  0.751215  0.903345  0.047159  0.467182  0.627089\n",
       "2  0.972625  0.830281  0.819108  0.953604  0.526631  0.758565"
      ]
     },
     "execution_count": 10,
     "metadata": {},
     "output_type": "execute_result"
    }
   ],
   "source": [
    "reindex = [3,0,1,2]\n",
    "new_df.reindex(reindex)"
   ]
  },
  {
   "cell_type": "code",
   "execution_count": 11,
   "id": "e386ceca-2165-4579-8382-071dcb32d1cf",
   "metadata": {},
   "outputs": [
    {
     "data": {
      "text/plain": [
       "column_1    0.972625\n",
       "column_2    0.830281\n",
       "column_3    0.819108\n",
       "column_4    0.953604\n",
       "column_5    0.526631\n",
       "column_6    0.758565\n",
       "Name: 2, dtype: float64"
      ]
     },
     "execution_count": 11,
     "metadata": {},
     "output_type": "execute_result"
    }
   ],
   "source": [
    "new_df.loc[2] "
   ]
  },
  {
   "cell_type": "code",
   "execution_count": 12,
   "id": "48a1fa6b-9ba2-4638-9924-1190329cdeef",
   "metadata": {},
   "outputs": [
    {
     "data": {
      "text/plain": [
       "column_1    0.194149\n",
       "column_2    0.157778\n",
       "column_3    0.536439\n",
       "column_4    0.125943\n",
       "column_5    0.752992\n",
       "column_6    0.446931\n",
       "Name: 3, dtype: float64"
      ]
     },
     "execution_count": 12,
     "metadata": {},
     "output_type": "execute_result"
    }
   ],
   "source": [
    "new_df.iloc[2]"
   ]
  },
  {
   "cell_type": "raw",
   "id": "b06ee0fc-6ca7-4efc-ae81-a667efa2f65e",
   "metadata": {},
   "source": [
    "EXPLANATION-Values are different for all columns  but the dtype are same and there is a name change 2 and 3 "
   ]
  },
  {
   "cell_type": "markdown",
   "id": "d9cb24ea-6e4d-4386-8f54-c449f7367e6b",
   "metadata": {},
   "source": [
    "Q4. Write a code to find the following statistical measurements for the above dataframe df1:\n",
    "(i) mean of each and every column present in the dataframe.\n",
    "(ii) standard deviation of column, ‘column_2’"
   ]
  },
  {
   "cell_type": "code",
   "execution_count": 13,
   "id": "58c76979-de2d-4425-83a8-ad30bd46aeb3",
   "metadata": {},
   "outputs": [
    {
     "data": {
      "text/html": [
       "<div>\n",
       "<style scoped>\n",
       "    .dataframe tbody tr th:only-of-type {\n",
       "        vertical-align: middle;\n",
       "    }\n",
       "\n",
       "    .dataframe tbody tr th {\n",
       "        vertical-align: top;\n",
       "    }\n",
       "\n",
       "    .dataframe thead th {\n",
       "        text-align: right;\n",
       "    }\n",
       "</style>\n",
       "<table border=\"1\" class=\"dataframe\">\n",
       "  <thead>\n",
       "    <tr style=\"text-align: right;\">\n",
       "      <th></th>\n",
       "      <th>column_1</th>\n",
       "      <th>column_2</th>\n",
       "      <th>column_3</th>\n",
       "      <th>column_4</th>\n",
       "      <th>column_5</th>\n",
       "      <th>column_6</th>\n",
       "    </tr>\n",
       "  </thead>\n",
       "  <tbody>\n",
       "    <tr>\n",
       "      <th>1</th>\n",
       "      <td>0.717739</td>\n",
       "      <td>0.751215</td>\n",
       "      <td>0.903345</td>\n",
       "      <td>0.047159</td>\n",
       "      <td>0.467182</td>\n",
       "      <td>0.627089</td>\n",
       "    </tr>\n",
       "    <tr>\n",
       "      <th>2</th>\n",
       "      <td>0.972625</td>\n",
       "      <td>0.830281</td>\n",
       "      <td>0.819108</td>\n",
       "      <td>0.953604</td>\n",
       "      <td>0.526631</td>\n",
       "      <td>0.758565</td>\n",
       "    </tr>\n",
       "    <tr>\n",
       "      <th>3</th>\n",
       "      <td>0.194149</td>\n",
       "      <td>0.157778</td>\n",
       "      <td>0.536439</td>\n",
       "      <td>0.125943</td>\n",
       "      <td>0.752992</td>\n",
       "      <td>0.446931</td>\n",
       "    </tr>\n",
       "    <tr>\n",
       "      <th>4</th>\n",
       "      <td>0.635967</td>\n",
       "      <td>0.906455</td>\n",
       "      <td>0.884622</td>\n",
       "      <td>0.326759</td>\n",
       "      <td>0.236805</td>\n",
       "      <td>0.017435</td>\n",
       "    </tr>\n",
       "    <tr>\n",
       "      <th>5</th>\n",
       "      <td>0.168094</td>\n",
       "      <td>0.404338</td>\n",
       "      <td>0.307588</td>\n",
       "      <td>0.346486</td>\n",
       "      <td>0.427758</td>\n",
       "      <td>0.588246</td>\n",
       "    </tr>\n",
       "    <tr>\n",
       "      <th>6</th>\n",
       "      <td>0.497239</td>\n",
       "      <td>0.562037</td>\n",
       "      <td>0.257011</td>\n",
       "      <td>0.445708</td>\n",
       "      <td>0.521991</td>\n",
       "      <td>0.354763</td>\n",
       "    </tr>\n",
       "  </tbody>\n",
       "</table>\n",
       "</div>"
      ],
      "text/plain": [
       "   column_1  column_2  column_3  column_4  column_5  column_6\n",
       "1  0.717739  0.751215  0.903345  0.047159  0.467182  0.627089\n",
       "2  0.972625  0.830281  0.819108  0.953604  0.526631  0.758565\n",
       "3  0.194149  0.157778  0.536439  0.125943  0.752992  0.446931\n",
       "4  0.635967  0.906455  0.884622  0.326759  0.236805  0.017435\n",
       "5  0.168094  0.404338  0.307588  0.346486  0.427758  0.588246\n",
       "6  0.497239  0.562037  0.257011  0.445708  0.521991  0.354763"
      ]
     },
     "execution_count": 13,
     "metadata": {},
     "output_type": "execute_result"
    }
   ],
   "source": [
    "df1"
   ]
  },
  {
   "cell_type": "raw",
   "id": "21e9cfa9-042b-4d9b-937f-1e50c604f8bf",
   "metadata": {},
   "source": [
    "1- mean of each and every column present in the dataframe."
   ]
  },
  {
   "cell_type": "code",
   "execution_count": 14,
   "id": "a7716f6f-9792-484c-8677-7efe1c52cb7a",
   "metadata": {},
   "outputs": [
    {
     "data": {
      "text/plain": [
       "0.5309688540958689"
      ]
     },
     "execution_count": 14,
     "metadata": {},
     "output_type": "execute_result"
    }
   ],
   "source": [
    "df1['column_1'].mean()"
   ]
  },
  {
   "cell_type": "code",
   "execution_count": 15,
   "id": "343ebd5a-7e6b-456d-a7c0-09d5bfec9459",
   "metadata": {},
   "outputs": [
    {
     "data": {
      "text/plain": [
       "0.602017554997628"
      ]
     },
     "execution_count": 15,
     "metadata": {},
     "output_type": "execute_result"
    }
   ],
   "source": [
    "df1['column_2'].mean()"
   ]
  },
  {
   "cell_type": "code",
   "execution_count": 16,
   "id": "7f48f058-41a0-4c58-b9c0-4c7330f739c2",
   "metadata": {},
   "outputs": [
    {
     "data": {
      "text/plain": [
       "0.6180187585274063"
      ]
     },
     "execution_count": 16,
     "metadata": {},
     "output_type": "execute_result"
    }
   ],
   "source": [
    "df1['column_3'].mean()"
   ]
  },
  {
   "cell_type": "code",
   "execution_count": 17,
   "id": "bc4d33cb-92da-49c1-8d4c-8e6435389efe",
   "metadata": {},
   "outputs": [
    {
     "data": {
      "text/plain": [
       "0.3742765608331459"
      ]
     },
     "execution_count": 17,
     "metadata": {},
     "output_type": "execute_result"
    }
   ],
   "source": [
    "df1['column_4'].mean()"
   ]
  },
  {
   "cell_type": "code",
   "execution_count": 18,
   "id": "39ac8766-739e-446e-bcc0-55934b43f1d3",
   "metadata": {},
   "outputs": [
    {
     "data": {
      "text/plain": [
       "0.4888931938610859"
      ]
     },
     "execution_count": 18,
     "metadata": {},
     "output_type": "execute_result"
    }
   ],
   "source": [
    "df1['column_5'].mean()"
   ]
  },
  {
   "cell_type": "code",
   "execution_count": 19,
   "id": "8709d8aa-ffbe-425e-880d-eca5ca592e2e",
   "metadata": {},
   "outputs": [
    {
     "data": {
      "text/plain": [
       "0.4655047480987786"
      ]
     },
     "execution_count": 19,
     "metadata": {},
     "output_type": "execute_result"
    }
   ],
   "source": [
    "df1['column_6'].mean()"
   ]
  },
  {
   "cell_type": "markdown",
   "id": "01bdb8d2-4d4c-4379-8a24-9380dad17c43",
   "metadata": {},
   "source": [
    "(ii) standard deviation of column, ‘column_2’"
   ]
  },
  {
   "cell_type": "code",
   "execution_count": 20,
   "id": "0acff879-7569-4e54-ba2d-79666adcd882",
   "metadata": {},
   "outputs": [
    {
     "data": {
      "text/plain": [
       "0.28462991170109114"
      ]
     },
     "execution_count": 20,
     "metadata": {},
     "output_type": "execute_result"
    }
   ],
   "source": [
    "df1['column_2'].std()"
   ]
  },
  {
   "cell_type": "raw",
   "id": "fd2f5eb0-2aaa-42b1-bf5c-4418cf166982",
   "metadata": {},
   "source": [
    "Q5. Replace the data present in the second row of column, ‘column_2’ by a string variable then find the\n",
    "mean of column, column_2.\n",
    "If you are getting errors in executing it then explain why.\n",
    "[Hint: To replace the data use df1.loc[] and equate this to string data of your choice.]"
   ]
  },
  {
   "cell_type": "code",
   "execution_count": 21,
   "id": "c56245d8-217f-4223-a0c0-d9efecb49399",
   "metadata": {},
   "outputs": [
    {
     "data": {
      "text/html": [
       "<div>\n",
       "<style scoped>\n",
       "    .dataframe tbody tr th:only-of-type {\n",
       "        vertical-align: middle;\n",
       "    }\n",
       "\n",
       "    .dataframe tbody tr th {\n",
       "        vertical-align: top;\n",
       "    }\n",
       "\n",
       "    .dataframe thead th {\n",
       "        text-align: right;\n",
       "    }\n",
       "</style>\n",
       "<table border=\"1\" class=\"dataframe\">\n",
       "  <thead>\n",
       "    <tr style=\"text-align: right;\">\n",
       "      <th></th>\n",
       "      <th>column_1</th>\n",
       "      <th>column_2</th>\n",
       "      <th>column_3</th>\n",
       "      <th>column_4</th>\n",
       "      <th>column_5</th>\n",
       "      <th>column_6</th>\n",
       "    </tr>\n",
       "  </thead>\n",
       "  <tbody>\n",
       "    <tr>\n",
       "      <th>1</th>\n",
       "      <td>0.717739</td>\n",
       "      <td>0.751215</td>\n",
       "      <td>0.903345</td>\n",
       "      <td>0.047159</td>\n",
       "      <td>0.467182</td>\n",
       "      <td>0.627089</td>\n",
       "    </tr>\n",
       "    <tr>\n",
       "      <th>2</th>\n",
       "      <td>0.972625</td>\n",
       "      <td>0.830281</td>\n",
       "      <td>0.819108</td>\n",
       "      <td>0.953604</td>\n",
       "      <td>0.526631</td>\n",
       "      <td>0.758565</td>\n",
       "    </tr>\n",
       "    <tr>\n",
       "      <th>3</th>\n",
       "      <td>0.194149</td>\n",
       "      <td>0.157778</td>\n",
       "      <td>0.536439</td>\n",
       "      <td>0.125943</td>\n",
       "      <td>0.752992</td>\n",
       "      <td>0.446931</td>\n",
       "    </tr>\n",
       "    <tr>\n",
       "      <th>4</th>\n",
       "      <td>0.635967</td>\n",
       "      <td>0.906455</td>\n",
       "      <td>0.884622</td>\n",
       "      <td>0.326759</td>\n",
       "      <td>0.236805</td>\n",
       "      <td>0.017435</td>\n",
       "    </tr>\n",
       "    <tr>\n",
       "      <th>5</th>\n",
       "      <td>0.168094</td>\n",
       "      <td>0.404338</td>\n",
       "      <td>0.307588</td>\n",
       "      <td>0.346486</td>\n",
       "      <td>0.427758</td>\n",
       "      <td>0.588246</td>\n",
       "    </tr>\n",
       "    <tr>\n",
       "      <th>6</th>\n",
       "      <td>0.497239</td>\n",
       "      <td>0.562037</td>\n",
       "      <td>0.257011</td>\n",
       "      <td>0.445708</td>\n",
       "      <td>0.521991</td>\n",
       "      <td>0.354763</td>\n",
       "    </tr>\n",
       "  </tbody>\n",
       "</table>\n",
       "</div>"
      ],
      "text/plain": [
       "   column_1  column_2  column_3  column_4  column_5  column_6\n",
       "1  0.717739  0.751215  0.903345  0.047159  0.467182  0.627089\n",
       "2  0.972625  0.830281  0.819108  0.953604  0.526631  0.758565\n",
       "3  0.194149  0.157778  0.536439  0.125943  0.752992  0.446931\n",
       "4  0.635967  0.906455  0.884622  0.326759  0.236805  0.017435\n",
       "5  0.168094  0.404338  0.307588  0.346486  0.427758  0.588246\n",
       "6  0.497239  0.562037  0.257011  0.445708  0.521991  0.354763"
      ]
     },
     "execution_count": 21,
     "metadata": {},
     "output_type": "execute_result"
    }
   ],
   "source": [
    "df1\n"
   ]
  },
  {
   "cell_type": "code",
   "execution_count": 22,
   "id": "8a1fc43c-7c63-432d-8679-6ff666c13812",
   "metadata": {},
   "outputs": [],
   "source": [
    "df1.loc[2, 'column_2'] = 'string_variable'"
   ]
  },
  {
   "cell_type": "code",
   "execution_count": 23,
   "id": "7ce9e416-7928-4e66-8acf-cb2af695fbc4",
   "metadata": {},
   "outputs": [
    {
     "data": {
      "text/html": [
       "<div>\n",
       "<style scoped>\n",
       "    .dataframe tbody tr th:only-of-type {\n",
       "        vertical-align: middle;\n",
       "    }\n",
       "\n",
       "    .dataframe tbody tr th {\n",
       "        vertical-align: top;\n",
       "    }\n",
       "\n",
       "    .dataframe thead th {\n",
       "        text-align: right;\n",
       "    }\n",
       "</style>\n",
       "<table border=\"1\" class=\"dataframe\">\n",
       "  <thead>\n",
       "    <tr style=\"text-align: right;\">\n",
       "      <th></th>\n",
       "      <th>column_1</th>\n",
       "      <th>column_2</th>\n",
       "      <th>column_3</th>\n",
       "      <th>column_4</th>\n",
       "      <th>column_5</th>\n",
       "      <th>column_6</th>\n",
       "    </tr>\n",
       "  </thead>\n",
       "  <tbody>\n",
       "    <tr>\n",
       "      <th>1</th>\n",
       "      <td>0.717739</td>\n",
       "      <td>0.751215</td>\n",
       "      <td>0.903345</td>\n",
       "      <td>0.047159</td>\n",
       "      <td>0.467182</td>\n",
       "      <td>0.627089</td>\n",
       "    </tr>\n",
       "    <tr>\n",
       "      <th>2</th>\n",
       "      <td>0.972625</td>\n",
       "      <td>string_variable</td>\n",
       "      <td>0.819108</td>\n",
       "      <td>0.953604</td>\n",
       "      <td>0.526631</td>\n",
       "      <td>0.758565</td>\n",
       "    </tr>\n",
       "    <tr>\n",
       "      <th>3</th>\n",
       "      <td>0.194149</td>\n",
       "      <td>0.157778</td>\n",
       "      <td>0.536439</td>\n",
       "      <td>0.125943</td>\n",
       "      <td>0.752992</td>\n",
       "      <td>0.446931</td>\n",
       "    </tr>\n",
       "    <tr>\n",
       "      <th>4</th>\n",
       "      <td>0.635967</td>\n",
       "      <td>0.906455</td>\n",
       "      <td>0.884622</td>\n",
       "      <td>0.326759</td>\n",
       "      <td>0.236805</td>\n",
       "      <td>0.017435</td>\n",
       "    </tr>\n",
       "    <tr>\n",
       "      <th>5</th>\n",
       "      <td>0.168094</td>\n",
       "      <td>0.404338</td>\n",
       "      <td>0.307588</td>\n",
       "      <td>0.346486</td>\n",
       "      <td>0.427758</td>\n",
       "      <td>0.588246</td>\n",
       "    </tr>\n",
       "    <tr>\n",
       "      <th>6</th>\n",
       "      <td>0.497239</td>\n",
       "      <td>0.562037</td>\n",
       "      <td>0.257011</td>\n",
       "      <td>0.445708</td>\n",
       "      <td>0.521991</td>\n",
       "      <td>0.354763</td>\n",
       "    </tr>\n",
       "  </tbody>\n",
       "</table>\n",
       "</div>"
      ],
      "text/plain": [
       "   column_1         column_2  column_3  column_4  column_5  column_6\n",
       "1  0.717739         0.751215  0.903345  0.047159  0.467182  0.627089\n",
       "2  0.972625  string_variable  0.819108  0.953604  0.526631  0.758565\n",
       "3  0.194149         0.157778  0.536439  0.125943  0.752992  0.446931\n",
       "4  0.635967         0.906455  0.884622  0.326759  0.236805  0.017435\n",
       "5  0.168094         0.404338  0.307588  0.346486  0.427758  0.588246\n",
       "6  0.497239         0.562037  0.257011  0.445708  0.521991  0.354763"
      ]
     },
     "execution_count": 23,
     "metadata": {},
     "output_type": "execute_result"
    }
   ],
   "source": [
    "df1"
   ]
  },
  {
   "cell_type": "markdown",
   "id": "d7b56878-c1dc-4ce1-bf73-ebc292c91f57",
   "metadata": {},
   "source": [
    "Q6. What do you understand about the windows function in pandas and list the types of windows\n",
    "functions?"
   ]
  },
  {
   "cell_type": "markdown",
   "id": "90811b17-c85d-44a4-87bb-c3636d8addd4",
   "metadata": {},
   "source": [
    "ANS-In pandas, the concept of \"window functions\" refers to a group of functions that operate on a sliding or rolling window of data.\n",
    "    WINDOW_FUNCTION-Rolling Window Functions,Expanding Window Functions,Exponentially Weighted Moving Average (EWMA)"
   ]
  },
  {
   "cell_type": "raw",
   "id": "8b0be01e-6d56-4302-be41-1c2816636204",
   "metadata": {},
   "source": [
    "Q7. Write a code to print only the current month and year at the time of answering this question.\n",
    "[Hint: Use pandas.datetime function]"
   ]
  },
  {
   "cell_type": "code",
   "execution_count": 24,
   "id": "2164dd42-c1db-4056-9c07-815749de5422",
   "metadata": {},
   "outputs": [
    {
     "name": "stdout",
     "output_type": "stream",
     "text": [
      "Current year: 2024\n",
      "Current month: 3\n"
     ]
    }
   ],
   "source": [
    "from datetime import date \n",
    "todays_date = date.today() \n",
    "print(\"Current year:\", todays_date.year) \n",
    "print(\"Current month:\", todays_date.month) \n"
   ]
  },
  {
   "cell_type": "raw",
   "id": "65370fae-eb79-4b28-af82-6026f3701ca8",
   "metadata": {},
   "source": [
    "Q8. Write a Python program that takes in two dates as input (in the format YYYY-MM-DD) and\n",
    "calculates the difference between them in days, hours, and minutes using Pandas time delta."
   ]
  },
  {
   "cell_type": "code",
   "execution_count": 25,
   "id": "45eb01e1-6de3-4b5c-9018-cc2ddfd7e115",
   "metadata": {},
   "outputs": [
    {
     "data": {
      "text/plain": [
       "Timedelta('2 days 05:45:00')"
      ]
     },
     "execution_count": 25,
     "metadata": {},
     "output_type": "execute_result"
    }
   ],
   "source": [
    "pd.Timedelta(days=2,hours=5,minutes=45)"
   ]
  },
  {
   "cell_type": "markdown",
   "id": "7e4e2ec1-f85b-4522-a547-01de847b7398",
   "metadata": {},
   "source": [
    "Q9. Write a Python program that reads a CSV file containing categorical data and converts a specified\n",
    "column to a categorical data type. The program should prompt the user to enter the file path, column\n",
    "name, and category order, and then display the sorted data."
   ]
  },
  {
   "cell_type": "code",
   "execution_count": 29,
   "id": "6d921859-133f-488c-9159-bdd0be5e2dc9",
   "metadata": {},
   "outputs": [
    {
     "name": "stdin",
     "output_type": "stream",
     "text": [
      "Enter the path to the CSV file:  parent_name\n",
      "Enter the name of the column to convert to categorical:  parent_id\n",
      "Enter the categories in order separated by commas:  parent_id,parent_name\n"
     ]
    },
    {
     "name": "stdout",
     "output_type": "stream",
     "text": [
      "File not found. Please check the file path and try again.\n"
     ]
    }
   ],
   "source": [
    "import pandas as pd\n",
    "\n",
    "def read_csv_convert_categorical():\n",
    "   \n",
    "    file_path = input(\"Enter the path to the CSV file: \")\n",
    "    \n",
    "    column_name = input(\"Enter the name of the column to convert to categorical: \")\n",
    "    \n",
    "    categories = input(\"Enter the categories in order separated by commas: \").split(',')\n",
    "    \n",
    "    try:\n",
    "        df = pd.read_csv(file_path)\n",
    "    except FileNotFoundError:\n",
    "        print(\"File not found. Please check the file path and try again.\")\n",
    "        return\n",
    "    \n",
    "    try:\n",
    "        df[column_name] = pd.Categorical(df[column_name], categories=categories, ordered=True)\n",
    "    except KeyError:\n",
    "        print(\"Column not found in the CSV file. Please check the column name and try again.\")\n",
    "        return\n",
    "    \n",
    "    sorted_data = df.sort_values(by=column_name)\n",
    "    print(\"\\nSorted Data:\")\n",
    "    print(sorted_data)\n",
    "\n",
    "if __name__ == \"__main__\":\n",
    "    read_csv_convert_categorical()\n"
   ]
  },
  {
   "cell_type": "code",
   "execution_count": null,
   "id": "da643c31-755f-48b6-ae63-88b91cddc750",
   "metadata": {},
   "outputs": [],
   "source": [
    "import pandas as pd\n",
    "import matplotlib.pyplot as plt\n",
    "\n",
    "def visualize_sales_data():\n",
    "    # Prompt user for file path\n",
    "    file_path = input(\"Enter the path to the CSV file: \")\n",
    "    \n",
    "    # Read CSV file\n",
    "    try:\n",
    "        df = pd.read_csv(file_path)\n",
    "    except FileNotFoundError:\n",
    "        print(\"File not found. Please check the file path and try again.\")\n",
    "        return\n",
    "    \n",
    "    # Convert 'Date' column to datetime\n",
    "    df['Date'] = pd.to_datetime(df['Date'])\n",
    "    \n",
    "    # Extract year and month from 'Date' column\n",
    "    df['Year'] = df['Date'].dt.year\n",
    "    df['Month'] = df['Date'].dt.month_name()\n",
    "    \n",
    "    # Group by year, month, and product category and sum the sales\n",
    "    sales_data = df.groupby(['Year', 'Month', 'Product Category'])['Sales'].sum().unstack()\n",
    "    \n",
    "    # Plot stacked bar chart\n",
    "    sales_data.plot(kind='bar', stacked=True, figsize=(10, 6))\n",
    "    plt.title('Sales of Product Categories Over Time')\n",
    "    plt.xlabel('Time (Year-Month)')\n",
    "    plt.ylabel('Sales')\n",
    "    plt.legend(title='Product Category', bbox_to_anchor=(1.05, 1), loc='upper left')\n",
    "    plt.tight_layout()\n",
    "    plt.show()\n",
    "\n",
    "if __name__ == \"__main__\":\n",
    "    visualize_sales_data()\n"
   ]
  },
  {
   "cell_type": "code",
   "execution_count": null,
   "id": "4d8c499a-2239-4f98-8f64-867716dd8c89",
   "metadata": {},
   "outputs": [],
   "source": []
  }
 ],
 "metadata": {
  "kernelspec": {
   "display_name": "Python 3 (ipykernel)",
   "language": "python",
   "name": "python3"
  },
  "language_info": {
   "codemirror_mode": {
    "name": "ipython",
    "version": 3
   },
   "file_extension": ".py",
   "mimetype": "text/x-python",
   "name": "python",
   "nbconvert_exporter": "python",
   "pygments_lexer": "ipython3",
   "version": "3.10.8"
  }
 },
 "nbformat": 4,
 "nbformat_minor": 5
}
